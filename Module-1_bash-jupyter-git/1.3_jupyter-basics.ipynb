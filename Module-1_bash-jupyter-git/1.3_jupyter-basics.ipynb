{
 "cells": [
  {
   "cell_type": "markdown",
   "metadata": {},
   "source": [
    "# 1.3 jupyter basics\n",
    "\n",
    "\n",
    "This notebook will demonstrate the basics of working with jupyter notebooks.  We'll practice using the bash commands we learned in the previous slide deck."
   ]
  },
  {
   "cell_type": "code",
   "execution_count": 1,
   "metadata": {},
   "outputs": [
    {
     "data": {
      "text/plain": [
       "5"
      ]
     },
     "execution_count": 1,
     "metadata": {},
     "output_type": "execute_result"
    }
   ],
   "source": [
    "2+3"
   ]
  },
  {
   "cell_type": "code",
   "execution_count": null,
   "metadata": {},
   "outputs": [],
   "source": []
  },
  {
   "cell_type": "markdown",
   "metadata": {},
   "source": [
    "## Creating and running cells\n",
    "First, create a new cell below this one by clicking on this cell and the selecting \"Insert\"->\"Insert Cell Below\".  (NOTE: If you accidentally double-click on this cell and go in *edit mode*, you can return to *command mode* by clicking the \"Run\" button above.)\n",
    "\n",
    "After you've created your new cell, type `2+3` and run the cell.  Play around with other arithmetic operations."
   ]
  },
  {
   "cell_type": "markdown",
   "metadata": {},
   "source": [
    "## Running bash commands\n",
    "\n",
    "#### Practice some of your bash commands by adding `%%bash` to the start of a cell.\n",
    "For example, type these commands into a new cell and run it:\n",
    "```\n",
    "%%bash\n",
    "pwd\n",
    "```"
   ]
  },
  {
   "cell_type": "code",
   "execution_count": 19,
   "metadata": {},
   "outputs": [
    {
     "name": "stdout",
     "output_type": "stream",
     "text": [
      "/Users/Siddhartha/Applied-Bioinformatics\n"
     ]
    }
   ],
   "source": [
    "cd Applied-Bioinformatics/"
   ]
  },
  {
   "cell_type": "markdown",
   "metadata": {},
   "source": [
    "#### Examine the contents of the current directory:\n",
    "```\n",
    "%%bash\n",
    "ls\n",
    "```"
   ]
  },
  {
   "cell_type": "code",
   "execution_count": 22,
   "metadata": {},
   "outputs": [
    {
     "name": "stdout",
     "output_type": "stream",
     "text": [
      "1.3_jupyter-basics.ipynb         1.5_redirection-and-pipes.ipynb\r\n",
      "1.4_working-with-files.ipynb     \u001b[34mdata\u001b[m\u001b[m/\r\n"
     ]
    }
   ],
   "source": [
    "ls"
   ]
  },
  {
   "cell_type": "markdown",
   "metadata": {},
   "source": [
    "#### Examine the contents of the `data/art` subdirectory\n",
    "```\n",
    "%%bash\n",
    "ls data/art\n",
    "```"
   ]
  },
  {
   "cell_type": "code",
   "execution_count": 23,
   "metadata": {},
   "outputs": [
    {
     "name": "stdout",
     "output_type": "stream",
     "text": [
      "/Users/Siddhartha/Applied-Bioinformatics/Module-1_bash-jupyter-git/data\n"
     ]
    }
   ],
   "source": [
    "cd data/"
   ]
  },
  {
   "cell_type": "markdown",
   "metadata": {},
   "source": [
    "#### Examine the context of the `artists.txt` file\n",
    "```\n",
    "%%bash\n",
    "cd data/art\n",
    "less artists.txt\n",
    "```"
   ]
  },
  {
   "cell_type": "code",
   "execution_count": 25,
   "metadata": {},
   "outputs": [
    {
     "name": "stdout",
     "output_type": "stream",
     "text": [
      "/Users/Siddhartha/Applied-Bioinformatics/Module-1_bash-jupyter-git/data/art\n"
     ]
    }
   ],
   "source": [
    "cd art\n"
   ]
  },
  {
   "cell_type": "markdown",
   "metadata": {},
   "source": [
    "#### What year was the painter Giuseppe Abbati born in?\n",
    "Find and correct the error...\n",
    "```\n",
    "%%bash\n",
    "cd data/art\n",
    "grep Abbati artists.txt\n",
    "```"
   ]
  },
  {
   "cell_type": "code",
   "execution_count": 40,
   "metadata": {},
   "outputs": [
    {
     "name": "stdout",
     "output_type": "stream",
     "text": [
      "artists.txt\r\n"
     ]
    }
   ],
   "source": [
    "ls"
   ]
  },
  {
   "cell_type": "code",
   "execution_count": 41,
   "metadata": {},
   "outputs": [
    {
     "ename": "SyntaxError",
     "evalue": "invalid syntax (<ipython-input-41-e3b371e8cbc1>, line 1)",
     "output_type": "error",
     "traceback": [
      "\u001b[0;36m  File \u001b[0;32m\"<ipython-input-41-e3b371e8cbc1>\"\u001b[0;36m, line \u001b[0;32m1\u001b[0m\n\u001b[0;31m    grep Abbati artists.txt\u001b[0m\n\u001b[0m              ^\u001b[0m\n\u001b[0;31mSyntaxError\u001b[0m\u001b[0;31m:\u001b[0m invalid syntax\n"
     ]
    }
   ],
   "source": [
    "grep Abbati artists.txt"
   ]
  },
  {
   "cell_type": "markdown",
   "metadata": {},
   "source": [
    "#### How many Italian painters are listed in `artists.txt`?\n",
    "Find and correct the error...\n",
    "```\n",
    "%%bash\n",
    "cd /data/art\n",
    "grep -c Italian painters artists.txt\n",
    "```"
   ]
  },
  {
   "cell_type": "markdown",
   "metadata": {},
   "source": [
    "## Homework\n",
    "\n",
    "These problems will test your understanding of both basic bash commands and of the jupyter notebook.  Answer each of the questions below by creating and executing a new code cell underneath each question."
   ]
  },
  {
   "cell_type": "markdown",
   "metadata": {},
   "source": [
    "### HW1: Use the `ls` command to sort all files in `data/art` by file size."
   ]
  },
  {
   "cell_type": "markdown",
   "metadata": {},
   "source": [
    "### HW2: Count the number of artists in `artists.txt` *excluding* French painters."
   ]
  },
  {
   "cell_type": "markdown",
   "metadata": {},
   "source": [
    "### HW3: List only the csv files in `data/tmp`."
   ]
  }
 ],
 "metadata": {
  "kernelspec": {
   "display_name": "Python 3",
   "language": "python",
   "name": "python3"
  },
  "language_info": {
   "codemirror_mode": {
    "name": "ipython",
    "version": 3
   },
   "file_extension": ".py",
   "mimetype": "text/x-python",
   "name": "python",
   "nbconvert_exporter": "python",
   "pygments_lexer": "ipython3",
   "version": "3.6.5"
  }
 },
 "nbformat": 4,
 "nbformat_minor": 2
}
