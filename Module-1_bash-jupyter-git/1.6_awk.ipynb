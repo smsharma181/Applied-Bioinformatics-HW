{
 "cells": [
  {
   "cell_type": "markdown",
   "metadata": {},
   "source": [
    "# 1.6 awk\n",
    "\n",
    "This notebook will demonstrate the basics of using `awk` to extract specific fields from within data files."
   ]
  },
  {
   "cell_type": "markdown",
   "metadata": {},
   "source": [
    "#### manual inspection of `artists.txt`\n",
    "\n",
    "There are at least two options for loading `artists.txt` into your favorite spreadsheet program:\n",
    "\n",
    "* you already have the file on your computer somewhere on your file system, so you can load it from there (if you can figure it out)\n",
    "* you can download the text file from https://raw.githubusercontent.com/SuLab/Applied-Bioinformatics/master/Module-1_bash-jupyter-git/data/art/artists.txt\n",
    "\n",
    "Note that every row has four columns. "
   ]
  },
  {
   "cell_type": "markdown",
   "metadata": {},
   "source": [
    "#### confirm using awk that each row has four columns\n",
    "Find and fix the error.\n",
    "\n",
    "```\n",
    "%%bash\n",
    "awk '{print NF}' artists.txt\n",
    "```"
   ]
  },
  {
   "cell_type": "code",
   "execution_count": 4,
   "metadata": {},
   "outputs": [
    {
     "name": "stdout",
     "output_type": "stream",
     "text": [
      "1.3_jupyter-basics.ipynb\n",
      "1.4_working-with-files.ipynb\n",
      "1.5_redirection-and-pipes.ipynb\n",
      "1.6_awk.ipynb\n",
      "data\n",
      "file1.txt\n",
      "file10.txt\n",
      "file100.txt\n",
      "file101.txt\n",
      "file102.txt\n",
      "file103.txt\n",
      "file104.txt\n",
      "file105.txt\n",
      "file106.txt\n",
      "file107.txt\n",
      "file108.txt\n",
      "file109.txt\n",
      "file11.txt\n",
      "file110.txt\n",
      "file111.txt\n",
      "file114.txt\n",
      "file115.txt\n",
      "file116.txt\n",
      "file117.txt\n",
      "file118.txt\n",
      "file119.txt\n",
      "file12.txt\n",
      "file120.txt\n",
      "file121.txt\n",
      "file122.txt\n",
      "file123.txt\n",
      "file124.txt\n",
      "file125.txt\n",
      "file126.txt\n",
      "file127.txt\n",
      "file128.txt\n",
      "file129.txt\n",
      "file13.txt\n",
      "file130.txt\n",
      "file131.txt\n",
      "file132.txt\n",
      "file133.txt\n",
      "file134.txt\n",
      "file135.txt\n",
      "file136.txt\n",
      "file138.txt\n",
      "file139.txt\n",
      "file14.txt\n",
      "file140.txt\n",
      "file141.txt\n",
      "file142.txt\n",
      "file143.txt\n",
      "file144.txt\n",
      "file145.txt\n",
      "file146.txt\n",
      "file147.txt\n",
      "file148.txt\n",
      "file149.txt\n",
      "file15.txt\n",
      "file150.txt\n",
      "file151.txt\n",
      "file152.txt\n",
      "file153.txt\n",
      "file154.txt\n",
      "file155.txt\n",
      "file156.txt\n",
      "file157.txt\n",
      "file158.txt\n",
      "file159.txt\n",
      "file16.txt\n",
      "file160.txt\n",
      "file161.txt\n",
      "file162.txt\n",
      "file163.txt\n",
      "file164.txt\n",
      "file165.txt\n",
      "file166.txt\n",
      "file167.txt\n",
      "file168.txt\n",
      "file169.txt\n",
      "file17.txt\n",
      "file170.txt\n",
      "file171.txt\n",
      "file172.txt\n",
      "file173.txt\n",
      "file174.txt\n",
      "file175.txt\n",
      "file176.txt\n",
      "file177.txt\n",
      "file178.txt\n",
      "file179.txt\n",
      "file18.txt\n",
      "file180.txt\n",
      "file181.txt\n",
      "file182.txt\n",
      "file183.txt\n",
      "file184.txt\n",
      "file185.txt\n",
      "file186.txt\n",
      "file187.txt\n",
      "file188.txt\n",
      "file189.txt\n",
      "file19.txt\n",
      "file190.txt\n",
      "file191.txt\n",
      "file192.csv\n",
      "file192.txt\n",
      "file193.txt\n",
      "file194.txt\n",
      "file195.txt\n",
      "file196.txt\n",
      "file197.txt\n",
      "file198.txt\n",
      "file199.txt\n",
      "file2.txt\n",
      "file200.txt\n",
      "file21.txt\n",
      "file22.txt\n",
      "file23.txt\n",
      "file24.txt\n",
      "file25.txt\n",
      "file26.txt\n",
      "file27.txt\n",
      "file28.txt\n",
      "file29.txt\n",
      "file3.txt\n",
      "file30.txt\n",
      "file31.txt\n",
      "file32.txt\n",
      "file33.csv\n",
      "file33.txt\n",
      "file34.txt\n",
      "file35.txt\n",
      "file36.txt\n",
      "file38.txt\n",
      "file39.txt\n",
      "file4.txt\n",
      "file40.txt\n",
      "file41.txt\n",
      "file42.txt\n",
      "file44.txt\n",
      "file45.txt\n",
      "file46.txt\n",
      "file47.txt\n",
      "file48.txt\n",
      "file49.txt\n",
      "file5.txt\n",
      "file50.txt\n",
      "file51.txt\n",
      "file52.txt\n",
      "file53.txt\n",
      "file54.txt\n",
      "file55.txt\n",
      "file56.txt\n",
      "file57.txt\n",
      "file58.txt\n",
      "file59.txt\n",
      "file6.txt\n",
      "file60.txt\n",
      "file61.txt\n",
      "file62.txt\n",
      "file64.txt\n",
      "file65.txt\n",
      "file66.txt\n",
      "file67.txt\n",
      "file68.txt\n",
      "file69.txt\n",
      "file7.txt\n",
      "file70.txt\n",
      "file71.txt\n",
      "file72.txt\n",
      "file73.txt\n",
      "file74.txt\n",
      "file75.txt\n",
      "file76.txt\n",
      "file77.txt\n",
      "file78.txt\n",
      "file79.txt\n",
      "file8.txt\n",
      "file80.txt\n",
      "file81.txt\n",
      "file82.txt\n",
      "file84.txt\n",
      "file85.txt\n",
      "file86.txt\n",
      "file87.txt\n",
      "file88.txt\n",
      "file89.txt\n",
      "file9.txt\n",
      "file90.txt\n",
      "file91.txt\n",
      "file92.txt\n",
      "file93.txt\n",
      "file94.txt\n",
      "file96.csv\n",
      "file96.txt\n",
      "file97.txt\n",
      "file98.txt\n",
      "file99.txt\n"
     ]
    }
   ],
   "source": [
    "%%bash\n",
    "ls\n",
    "cd data/tmp\n",
    "ls"
   ]
  },
  {
   "cell_type": "code",
   "execution_count": 5,
   "metadata": {},
   "outputs": [
    {
     "name": "stdout",
     "output_type": "stream",
     "text": [
      "1.3_jupyter-basics.ipynb         1.6_awk.ipynb\r\n",
      "1.4_working-with-files.ipynb     \u001b[34mdata\u001b[m\u001b[m/\r\n",
      "1.5_redirection-and-pipes.ipynb\r\n"
     ]
    }
   ],
   "source": [
    "ls"
   ]
  },
  {
   "cell_type": "code",
   "execution_count": 10,
   "metadata": {},
   "outputs": [
    {
     "name": "stdout",
     "output_type": "stream",
     "text": [
      "art\n",
      "fastq\n",
      "tmp\n",
      "Practice_directory\n",
      "artists.txt\n",
      "artists_sidd.txt\n"
     ]
    }
   ],
   "source": [
    "%%bash\n",
    "cd data\n",
    "ls\n",
    "cd art\n",
    "ls"
   ]
  },
  {
   "cell_type": "code",
   "execution_count": 12,
   "metadata": {},
   "outputs": [
    {
     "name": "stderr",
     "output_type": "stream",
     "text": [
      "awk: can't open file artists.txt\n",
      " source line number 1\n"
     ]
    }
   ],
   "source": [
    "%%bash\n",
    "awk '{print NF}' artists.txt"
   ]
  },
  {
   "cell_type": "markdown",
   "metadata": {},
   "source": [
    "#### Print the third column\n",
    "Find and fix the error.\n",
    "```\n",
    "%%bash\n",
    "awk '{print $3}' artists.txt\n",
    "```"
   ]
  },
  {
   "cell_type": "markdown",
   "metadata": {},
   "source": [
    "#### Use `uniq` (and another command) to find the most common art periods\n",
    "Find and fix the error(s).\n",
    "```\n",
    "%%bash\n",
    "awk '{print $3}' artists.txt | uniq\n",
    "```"
   ]
  },
  {
   "cell_type": "markdown",
   "metadata": {},
   "source": [
    "## Homework"
   ]
  },
  {
   "cell_type": "markdown",
   "metadata": {},
   "source": [
    "### HW1: Repeat the above command (finding the most common art periods) restricting to Dutch painters only.\n",
    "HINT: start by searching/filtering for Dutch painters..."
   ]
  },
  {
   "cell_type": "markdown",
   "metadata": {},
   "source": [
    "### HW2: Find the most common last names among all artists in `artists.txt`.\n",
    "HINT: you will use `awk`, `sort`, and `uniq`, and you may use one or more of those commands multiple times"
   ]
  }
 ],
 "metadata": {
  "kernelspec": {
   "display_name": "Python 3",
   "language": "python",
   "name": "python3"
  },
  "language_info": {
   "codemirror_mode": {
    "name": "ipython",
    "version": 3
   },
   "file_extension": ".py",
   "mimetype": "text/x-python",
   "name": "python",
   "nbconvert_exporter": "python",
   "pygments_lexer": "ipython3",
   "version": "3.6.5"
  }
 },
 "nbformat": 4,
 "nbformat_minor": 2
}
